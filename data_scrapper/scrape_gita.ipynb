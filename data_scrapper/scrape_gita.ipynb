{
 "cells": [
  {
   "cell_type": "markdown",
   "metadata": {},
   "source": [
    "# Libraries\n"
   ]
  },
  {
   "cell_type": "code",
   "execution_count": 47,
   "metadata": {},
   "outputs": [],
   "source": [
    "import requests \n",
    "import pandas as pd\n",
    "from pandas import ExcelWriter\n",
    "from pandas import ExcelFile\n",
    "import os\n",
    "import re\n",
    "from bs4 import BeautifulSoup "
   ]
  },
  {
   "cell_type": "markdown",
   "metadata": {},
   "source": [
    "# Static Variables\n"
   ]
  },
  {
   "cell_type": "code",
   "execution_count": 48,
   "metadata": {},
   "outputs": [],
   "source": [
    "base_url = \"https://www.holy-bhagavad-gita.org\""
   ]
  },
  {
   "cell_type": "markdown",
   "metadata": {},
   "source": [
    "# Fetch All Chapters as html\n"
   ]
  },
  {
   "cell_type": "code",
   "execution_count": 49,
   "metadata": {},
   "outputs": [],
   "source": [
    "all_chapters_as_html = requests.get(f\"{base_url}/index\") \n",
    "soup = BeautifulSoup(all_chapters_as_html.content, 'html5lib')"
   ]
  },
  {
   "cell_type": "code",
   "execution_count": 50,
   "metadata": {},
   "outputs": [],
   "source": [
    "chapter_sctions = soup.findAll('section')\n",
    "list_of_chapters = []\n",
    "for chapter_section in chapter_sctions:\n",
    "    list_of_chapters.append(\n",
    "        {\n",
    "            \"Chapter\": chapter_section.a.text,\n",
    "            \"url\": f\"{base_url}{chapter_section.a['href']}\"\n",
    "        }\n",
    "    )"
   ]
  },
  {
   "cell_type": "code",
   "execution_count": 51,
   "metadata": {},
   "outputs": [],
   "source": [
    "for i in range(len(list_of_chapters)):\n",
    "    all_chapters_as_html = requests.get(list_of_chapters[i][\"url\"]) \n",
    "    current_chapter = BeautifulSoup(all_chapters_as_html.content, 'html5lib')\n",
    "    this_dict = list_of_chapters[i]\n",
    "    this_dict[\"chapter_soup\"] = current_chapter\n",
    "    list_of_chapters[i] = this_dict"
   ]
  },
  {
   "cell_type": "markdown",
   "metadata": {},
   "source": [
    "# Fetch All verses of a Chapter\n"
   ]
  },
  {
   "cell_type": "code",
   "execution_count": null,
   "metadata": {},
   "outputs": [],
   "source": [
    "def filter_strings(mystr: str):\n",
    "    # all_puntuation = \"\"\"\"#$'()*+./;<=>@[\\]^_`}{~\"\"\"\n",
    "    # my_line = re.sub(\n",
    "    #     rf\"[{all_puntuation}]\",\n",
    "    #     \"\", \n",
    "    #     mystr\n",
    "    # )\n",
    "\n",
    "    # my_line = my_line.replace(\"\\r\", \"\")\n",
    "    # my_line = my_line.replace(\"\\t\", \"\")\n",
    "    # my_line = my_line.replace(\"\\n\", \"\")\n",
    "    # my_line = my_line.strip()\n",
    "    return mystr\n",
    "def fetch_verse_content(verse_link: str):\n",
    "\n",
    "    def fetch_info(my_elm, attr):\n",
    "        try:\n",
    "            my_line = str(my_chapter_verse_soup.find(my_elm, attrs=attr).text).strip()\n",
    "            \n",
    "            return filter_strings(my_line)\n",
    "        except Exception:\n",
    "            return \"Not Available !!!\"\n",
    "    chapter_verse = requests.get(verse_link)\n",
    "    my_chapter_verse_soup = BeautifulSoup(chapter_verse.content, 'html5lib')\n",
    "    original_verse = fetch_info(\"div\", {\"id\":\"originalVerse\"})\n",
    "    transliteration_verse = fetch_info(\"div\", {\"id\":\"transliteration\"})\n",
    "    wordMeanings_verse = fetch_info(\"div\", {\"id\":\"wordMeanings\"})\n",
    "    transliteration_wo_dia_verse = fetch_info(\"div\", {\"id\":\"transliteration_wo_dia\"})\n",
    "    verse_translation = fetch_info(\"div\",{\"id\":\"translation\"})\n",
    "    verse_commentary = fetch_info(\"div\", {\"id\":\"commentary\"})\n",
    "\n",
    "    return {\n",
    "        \"original_verse\": original_verse,\n",
    "        \"transliteration_verse\": transliteration_verse,\n",
    "        \"wordMeanings_verse\": wordMeanings_verse,\n",
    "        \"transliteration_wo_dia_verse\": transliteration_wo_dia_verse,\n",
    "        \"verse_translation\": verse_translation,\n",
    "        \"verse_commentary\": verse_commentary\n",
    "    }\n",
    "\n",
    "dataframe_set = []\n",
    "\n",
    "def fetch_chapter_content(chapter_url: str, current_language: str, chapter_name):\n",
    "    chapter_content = requests.get(chapter_url)\n",
    "    my_chapter_soup = BeautifulSoup(chapter_content.content, 'html5lib')\n",
    "    my_chapter_intro = str(my_chapter_soup.find('div', attrs={\"class\":\"chapterIntro\"}).text).strip()\n",
    "    my_chapter_verses = my_chapter_soup.find('div', attrs={\"class\":\"listItems\"})\n",
    "    my_chapter_verses = my_chapter_verses.find_all('a')\n",
    "    my_verse_info = []\n",
    "    for verse in my_chapter_verses:\n",
    "        my_text = str(verse.find_all('span')[0].text).strip()\n",
    "        my_dict = fetch_verse_content(f'{base_url}{verse[\"href\"]}')\n",
    "        my_dict[\"my_chapter_intro\"] = filter_strings(my_chapter_intro)\n",
    "        my_dict[\"current_language\"] = current_language\n",
    "        my_verse_info.append(my_dict)\n",
    "        print(\"Processing verse: \", verse[\"href\"], \"...\")\n",
    "\n",
    "    my_df = pd.DataFrame(my_verse_info)\n",
    "\n",
    "    dataframe_set.append({\n",
    "        \"chapter\": chapter_name,\n",
    "        \"verse_dataframe\": my_df\n",
    "    })\n",
    "\n",
    "for current_chapter in list_of_chapters:\n",
    "    my_soup = current_chapter[\"chapter_soup\"]\n",
    "    my_languages_soup = my_soup.findAll('div', attrs = {'align':'right'})[0]\n",
    "    my_languages_soup = my_languages_soup.findAll('li')\n",
    "    \n",
    "    for lis in my_languages_soup:\n",
    "        all_as = lis.find('a')\n",
    "        chapter_url_language = all_as[\"href\"]\n",
    "        current_language = str(lis[\"id\"]).strip()\n",
    "        chapter_name = str(current_chapter[\"Chapter\"]).strip().replace(\" \",\"_\")\n",
    "        \n",
    "        print(\"Processing Chapter: \", chapter_name, \" Language: \", current_language)\n",
    "        fetch_chapter_content(\n",
    "            chapter_url_language, \n",
    "            current_language,\n",
    "            chapter_name\n",
    "        )"
   ]
  },
  {
   "cell_type": "code",
   "execution_count": 66,
   "metadata": {},
   "outputs": [],
   "source": [
    "base_location = \"D:\\development\\output\\\\bhagwad_gita\"\n",
    "\n",
    "for elem in dataframe_set:\n",
    "    my_path = os.path.join(base_location, elem[\"chapter\"])\n",
    "    if(os.path.exists(my_path) == False):\n",
    "        os.mkdir(my_path)\n",
    "    my_current_df = elem[\"verse_dataframe\"]\n",
    "    language = str(my_current_df[\"current_language\"][0])\n",
    "    my_unique_file_name = f\"{elem['chapter']}_{language}.xlsx\"\n",
    "    filename = os.path.join(my_path, my_unique_file_name)\n",
    "    with pd.ExcelWriter(filename) as writer:\n",
    "        my_current_df.to_excel(writer, index=False, engine='xlsxwriter')"
   ]
  }
 ],
 "metadata": {
  "kernelspec": {
   "display_name": "pythondev",
   "language": "python",
   "name": "python3"
  },
  "language_info": {
   "codemirror_mode": {
    "name": "ipython",
    "version": 3
   },
   "file_extension": ".py",
   "mimetype": "text/x-python",
   "name": "python",
   "nbconvert_exporter": "python",
   "pygments_lexer": "ipython3",
   "version": "3.11.4"
  }
 },
 "nbformat": 4,
 "nbformat_minor": 2
}
