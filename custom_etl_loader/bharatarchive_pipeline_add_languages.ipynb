{
 "cells": [
  {
   "cell_type": "markdown",
   "metadata": {},
   "source": [
    "# Library Imports\n"
   ]
  },
  {
   "cell_type": "code",
   "execution_count": 213,
   "metadata": {},
   "outputs": [],
   "source": [
    "import pandas as pd\n",
    "import configparser\n",
    "import pyodbc\n",
    "from datetime import datetime"
   ]
  },
  {
   "cell_type": "markdown",
   "metadata": {},
   "source": [
    "# Loading Datasets\n"
   ]
  },
  {
   "cell_type": "code",
   "execution_count": 214,
   "metadata": {},
   "outputs": [
    {
     "data": {
      "text/plain": [
       "['../server/config.ini']"
      ]
     },
     "execution_count": 214,
     "metadata": {},
     "output_type": "execute_result"
    }
   ],
   "source": [
    "language_codes = pd.read_csv(\"./datasets/language_codes.csv\")\n",
    "\n",
    "config = configparser.ConfigParser()\n",
    "config.read(\"../server/config.ini\")"
   ]
  },
  {
   "cell_type": "markdown",
   "metadata": {},
   "source": [
    "# Connecting to Database\n"
   ]
  },
  {
   "cell_type": "code",
   "execution_count": 215,
   "metadata": {},
   "outputs": [],
   "source": [
    "conn_str = (\n",
    "    f\"DRIVER={config.get('DATABASE', 'DRIVER')};\"\n",
    "    f\"DATABASE={config.get('DATABASE', 'DATABASE')};\"\n",
    "    f\"UID={config.get('DATABASE', 'USERNAME')};\"\n",
    "    f\"PWD={config.get('DATABASE', 'PASSWORD')};\"\n",
    "    f\"SERVER={config.get('DATABASE', 'SERVER')};\"\n",
    "    \"sslmode=require;\"\n",
    ")\n",
    "connxn = pyodbc.connect(conn_str, autocommit=True)"
   ]
  },
  {
   "cell_type": "markdown",
   "metadata": {},
   "source": [
    "# Custom Functions\n"
   ]
  },
  {
   "cell_type": "code",
   "execution_count": 217,
   "metadata": {},
   "outputs": [],
   "source": [
    "def load_df_into_table(\n",
    "        dataframe: pd.DataFrame, \n",
    "        table_name: str,\n",
    "        cursor: pyodbc.Cursor\n",
    "    ):\n",
    "    \n",
    "    column_list = \",\".join(list(dataframe.columns))\n",
    "    qmarks = str(\"?,\"*len(list(dataframe.columns)))[:-1]\n",
    "    my_query = f\"\"\"INSERT INTO {table_name} ({column_list})\n",
    "    VALUES ({qmarks});\"\"\"\n",
    "    my_tlist = []\n",
    "    for row in dataframe.values:\n",
    "        my_tlist.append(tuple(row))\n",
    "    cursor.executemany(my_query, my_tlist)"
   ]
  },
  {
   "cell_type": "markdown",
   "metadata": {},
   "source": [
    "# Load Language Codes\n"
   ]
  },
  {
   "cell_type": "code",
   "execution_count": 218,
   "metadata": {},
   "outputs": [],
   "source": [
    "t_language_codes = language_codes\n",
    "t_language_codes = t_language_codes.where(t_language_codes.notna(), None)\n",
    "\n",
    "\n",
    "t_language_codes = t_language_codes.rename(\n",
    "    columns = {\n",
    "        'English':'language_name',\n",
    "        \"alpha2\":\"language_code_alpha2\",\n",
    "        \"alpha3-t\":\"language_code_alpha3_t\",\n",
    "        \"alpha3-b\":\"language_code_alpha3_b\"\n",
    "    }\n",
    ")\n",
    "\n",
    "# def fix_codes(df, att):\n",
    "#     df[att] = df[att].str.lower()\n",
    "#     df[att] = df[att].str.strip()\n",
    "t_language_codes['language_name'] = t_language_codes[\"language_name\"].str.upper()\n",
    "t_language_codes['language_display_name'] = t_language_codes[\"language_name\"].str.title()\n",
    "\n",
    "\n",
    "t_language_codes = t_language_codes.drop(['French'], axis=1)\n",
    "t_language_codes['is_active'] = 1\n",
    "t_language_codes['created_date'] = datetime.now()\n",
    "t_language_codes['created_by'] = \"ETL Process\"\n",
    "t_language_codes['updated_date'] = datetime.now()\n",
    "t_language_codes['updated_by'] = \"ETL Process\""
   ]
  },
  {
   "cell_type": "code",
   "execution_count": 219,
   "metadata": {},
   "outputs": [],
   "source": [
    "load_df_into_table(t_language_codes, \"public.bharatarchive_api_language\", connxn.cursor())"
   ]
  }
 ],
 "metadata": {
  "kernelspec": {
   "display_name": "pythondev",
   "language": "python",
   "name": "python3"
  },
  "language_info": {
   "codemirror_mode": {
    "name": "ipython",
    "version": 3
   },
   "file_extension": ".py",
   "mimetype": "text/x-python",
   "name": "python",
   "nbconvert_exporter": "python",
   "pygments_lexer": "ipython3",
   "version": "3.10.13"
  }
 },
 "nbformat": 4,
 "nbformat_minor": 2
}
