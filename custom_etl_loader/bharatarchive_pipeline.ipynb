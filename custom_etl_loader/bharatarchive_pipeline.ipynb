{
 "cells": [
  {
   "cell_type": "markdown",
   "metadata": {},
   "source": [
    "# Library Imports\n"
   ]
  },
  {
   "cell_type": "code",
   "execution_count": 47,
   "metadata": {},
   "outputs": [],
   "source": [
    "import pandas as pd\n",
    "import psycopg2\n",
    "import configparser"
   ]
  },
  {
   "cell_type": "markdown",
   "metadata": {},
   "source": [
    "# Loading Datasets\n"
   ]
  },
  {
   "cell_type": "code",
   "execution_count": 48,
   "metadata": {},
   "outputs": [
    {
     "data": {
      "text/plain": [
       "['../server/config.ini']"
      ]
     },
     "execution_count": 48,
     "metadata": {},
     "output_type": "execute_result"
    }
   ],
   "source": [
    "language_codes = pd.read_csv(\"./datasets/language_codes.csv\")\n",
    "\n",
    "config = configparser.ConfigParser()\n",
    "config.read(\"../server/config.ini\")"
   ]
  },
  {
   "cell_type": "markdown",
   "metadata": {},
   "source": [
    "# Connecting to Database\n"
   ]
  },
  {
   "cell_type": "code",
   "execution_count": 49,
   "metadata": {},
   "outputs": [],
   "source": [
    "conxn = psycopg2.connect(\n",
    "    user=config.get(\"DATABASE\", \"USERNAME\"),\n",
    "    password=config.get(\"DATABASE\", \"PASSWORD\"),\n",
    "    host=config.get(\"DATABASE\", \"SERVER\"),\n",
    "    port=config.get(\"DATABASE\", \"PORT\"),\n",
    "    database=config.get(\"DATABASE\", \"DATABASE\"),\n",
    ")\n",
    "cursor = conxn.cursor()"
   ]
  },
  {
   "cell_type": "code",
   "execution_count": 50,
   "metadata": {},
   "outputs": [],
   "source": [
    "# sql = \"SELECT * FROM public.bharatarchive_language;\"\n",
    "# data = pd.read_sql(sql,conxn)"
   ]
  },
  {
   "cell_type": "code",
   "execution_count": 51,
   "metadata": {},
   "outputs": [
    {
     "data": {
      "text/html": [
       "<div>\n",
       "<style scoped>\n",
       "    .dataframe tbody tr th:only-of-type {\n",
       "        vertical-align: middle;\n",
       "    }\n",
       "\n",
       "    .dataframe tbody tr th {\n",
       "        vertical-align: top;\n",
       "    }\n",
       "\n",
       "    .dataframe thead th {\n",
       "        text-align: right;\n",
       "    }\n",
       "</style>\n",
       "<table border=\"1\" class=\"dataframe\">\n",
       "  <thead>\n",
       "    <tr style=\"text-align: right;\">\n",
       "      <th></th>\n",
       "      <th>alpha3-b</th>\n",
       "      <th>alpha3-t</th>\n",
       "      <th>alpha2</th>\n",
       "      <th>English</th>\n",
       "      <th>French</th>\n",
       "    </tr>\n",
       "  </thead>\n",
       "  <tbody>\n",
       "    <tr>\n",
       "      <th>0</th>\n",
       "      <td>aar</td>\n",
       "      <td>NaN</td>\n",
       "      <td>aa</td>\n",
       "      <td>Afar</td>\n",
       "      <td>afar</td>\n",
       "    </tr>\n",
       "    <tr>\n",
       "      <th>1</th>\n",
       "      <td>abk</td>\n",
       "      <td>NaN</td>\n",
       "      <td>ab</td>\n",
       "      <td>Abkhazian</td>\n",
       "      <td>abkhaze</td>\n",
       "    </tr>\n",
       "    <tr>\n",
       "      <th>2</th>\n",
       "      <td>ace</td>\n",
       "      <td>NaN</td>\n",
       "      <td>NaN</td>\n",
       "      <td>Achinese</td>\n",
       "      <td>aceh</td>\n",
       "    </tr>\n",
       "    <tr>\n",
       "      <th>3</th>\n",
       "      <td>ach</td>\n",
       "      <td>NaN</td>\n",
       "      <td>NaN</td>\n",
       "      <td>Acoli</td>\n",
       "      <td>acoli</td>\n",
       "    </tr>\n",
       "    <tr>\n",
       "      <th>4</th>\n",
       "      <td>ada</td>\n",
       "      <td>NaN</td>\n",
       "      <td>NaN</td>\n",
       "      <td>Adangme</td>\n",
       "      <td>adangme</td>\n",
       "    </tr>\n",
       "    <tr>\n",
       "      <th>...</th>\n",
       "      <td>...</td>\n",
       "      <td>...</td>\n",
       "      <td>...</td>\n",
       "      <td>...</td>\n",
       "      <td>...</td>\n",
       "    </tr>\n",
       "    <tr>\n",
       "      <th>482</th>\n",
       "      <td>znd</td>\n",
       "      <td>NaN</td>\n",
       "      <td>NaN</td>\n",
       "      <td>Zande languages</td>\n",
       "      <td>zandé, langues</td>\n",
       "    </tr>\n",
       "    <tr>\n",
       "      <th>483</th>\n",
       "      <td>zul</td>\n",
       "      <td>NaN</td>\n",
       "      <td>zu</td>\n",
       "      <td>Zulu</td>\n",
       "      <td>zoulou</td>\n",
       "    </tr>\n",
       "    <tr>\n",
       "      <th>484</th>\n",
       "      <td>zun</td>\n",
       "      <td>NaN</td>\n",
       "      <td>NaN</td>\n",
       "      <td>Zuni</td>\n",
       "      <td>zuni</td>\n",
       "    </tr>\n",
       "    <tr>\n",
       "      <th>485</th>\n",
       "      <td>zxx</td>\n",
       "      <td>NaN</td>\n",
       "      <td>NaN</td>\n",
       "      <td>No linguistic content; Not applicable</td>\n",
       "      <td>pas de contenu linguistique; non applicable</td>\n",
       "    </tr>\n",
       "    <tr>\n",
       "      <th>486</th>\n",
       "      <td>zza</td>\n",
       "      <td>NaN</td>\n",
       "      <td>NaN</td>\n",
       "      <td>Zaza; Dimili; Dimli; Kirdki; Kirmanjki; Zazaki</td>\n",
       "      <td>zaza; dimili; dimli; kirdki; kirmanjki; zazaki</td>\n",
       "    </tr>\n",
       "  </tbody>\n",
       "</table>\n",
       "<p>487 rows × 5 columns</p>\n",
       "</div>"
      ],
      "text/plain": [
       "    alpha3-b alpha3-t alpha2                                         English  \\\n",
       "0        aar      NaN     aa                                            Afar   \n",
       "1        abk      NaN     ab                                       Abkhazian   \n",
       "2        ace      NaN    NaN                                        Achinese   \n",
       "3        ach      NaN    NaN                                           Acoli   \n",
       "4        ada      NaN    NaN                                         Adangme   \n",
       "..       ...      ...    ...                                             ...   \n",
       "482      znd      NaN    NaN                                 Zande languages   \n",
       "483      zul      NaN     zu                                            Zulu   \n",
       "484      zun      NaN    NaN                                            Zuni   \n",
       "485      zxx      NaN    NaN           No linguistic content; Not applicable   \n",
       "486      zza      NaN    NaN  Zaza; Dimili; Dimli; Kirdki; Kirmanjki; Zazaki   \n",
       "\n",
       "                                             French  \n",
       "0                                              afar  \n",
       "1                                           abkhaze  \n",
       "2                                              aceh  \n",
       "3                                             acoli  \n",
       "4                                           adangme  \n",
       "..                                              ...  \n",
       "482                                  zandé, langues  \n",
       "483                                          zoulou  \n",
       "484                                            zuni  \n",
       "485     pas de contenu linguistique; non applicable  \n",
       "486  zaza; dimili; dimli; kirdki; kirmanjki; zazaki  \n",
       "\n",
       "[487 rows x 5 columns]"
      ]
     },
     "metadata": {},
     "output_type": "display_data"
    }
   ],
   "source": [
    "display(language_codes)"
   ]
  }
 ],
 "metadata": {
  "kernelspec": {
   "display_name": "pythondev",
   "language": "python",
   "name": "python3"
  },
  "language_info": {
   "codemirror_mode": {
    "name": "ipython",
    "version": 3
   },
   "file_extension": ".py",
   "mimetype": "text/x-python",
   "name": "python",
   "nbconvert_exporter": "python",
   "pygments_lexer": "ipython3",
   "version": "3.11.4"
  }
 },
 "nbformat": 4,
 "nbformat_minor": 2
}
